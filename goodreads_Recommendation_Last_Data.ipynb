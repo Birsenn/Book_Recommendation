{
 "cells": [
  {
   "cell_type": "code",
   "execution_count": 100,
   "id": "883bfcc3",
   "metadata": {},
   "outputs": [],
   "source": [
    "import pandas as pd"
   ]
  },
  {
   "cell_type": "code",
   "execution_count": 2,
   "id": "6b776df2",
   "metadata": {},
   "outputs": [],
   "source": [
    "goodreads = pd.read_csv(\"/Users/birsenbas/Desktop/project 5/GOODREADS_CLEAN2\")"
   ]
  },
  {
   "cell_type": "code",
   "execution_count": 3,
   "id": "95d829f7",
   "metadata": {},
   "outputs": [
    {
     "name": "stdout",
     "output_type": "stream",
     "text": [
      "<class 'pandas.core.frame.DataFrame'>\n",
      "RangeIndex: 69681 entries, 0 to 69680\n",
      "Data columns (total 9 columns):\n",
      " #   Column        Non-Null Count  Dtype  \n",
      "---  ------        --------------  -----  \n",
      " 0   bookName      69681 non-null  object \n",
      " 1   author        69681 non-null  object \n",
      " 2   rating        69681 non-null  float64\n",
      " 3   ratingCount   69681 non-null  object \n",
      " 4   reviewCount   69681 non-null  object \n",
      " 5   summary       68546 non-null  object \n",
      " 6   reviews       69676 non-null  object \n",
      " 7   rating_users  69677 non-null  float64\n",
      " 8   user          69677 non-null  object \n",
      "dtypes: float64(2), object(7)\n",
      "memory usage: 4.8+ MB\n"
     ]
    }
   ],
   "source": [
    "goodreads.info()"
   ]
  },
  {
   "cell_type": "code",
   "execution_count": 4,
   "id": "2de11be9",
   "metadata": {},
   "outputs": [
    {
     "data": {
      "text/html": [
       "<div>\n",
       "<style scoped>\n",
       "    .dataframe tbody tr th:only-of-type {\n",
       "        vertical-align: middle;\n",
       "    }\n",
       "\n",
       "    .dataframe tbody tr th {\n",
       "        vertical-align: top;\n",
       "    }\n",
       "\n",
       "    .dataframe thead th {\n",
       "        text-align: right;\n",
       "    }\n",
       "</style>\n",
       "<table border=\"1\" class=\"dataframe\">\n",
       "  <thead>\n",
       "    <tr style=\"text-align: right;\">\n",
       "      <th></th>\n",
       "      <th>bookName</th>\n",
       "      <th>author</th>\n",
       "      <th>rating</th>\n",
       "      <th>ratingCount</th>\n",
       "      <th>reviewCount</th>\n",
       "      <th>summary</th>\n",
       "      <th>reviews</th>\n",
       "      <th>rating_users</th>\n",
       "      <th>user</th>\n",
       "    </tr>\n",
       "  </thead>\n",
       "  <tbody>\n",
       "    <tr>\n",
       "      <th>0</th>\n",
       "      <td>The Hunger Games</td>\n",
       "      <td>Suzanne Collins</td>\n",
       "      <td>4.32</td>\n",
       "      <td>7,550,740</td>\n",
       "      <td>186,972</td>\n",
       "      <td>Could you survive on your own in the wild, wit...</td>\n",
       "      <td>This review has been hidden because it contain...</td>\n",
       "      <td>5.0</td>\n",
       "      <td>Suzanne Collins</td>\n",
       "    </tr>\n",
       "    <tr>\n",
       "      <th>1</th>\n",
       "      <td>The Hunger Games</td>\n",
       "      <td>Suzanne Collins</td>\n",
       "      <td>4.32</td>\n",
       "      <td>7,550,740</td>\n",
       "      <td>186,972</td>\n",
       "      <td>Could you survive on your own in the wild, wit...</td>\n",
       "      <td>Latest BookTube Video is up - a totally seriou...</td>\n",
       "      <td>4.0</td>\n",
       "      <td>Saniya</td>\n",
       "    </tr>\n",
       "    <tr>\n",
       "      <th>2</th>\n",
       "      <td>The Hunger Games</td>\n",
       "      <td>Suzanne Collins</td>\n",
       "      <td>4.32</td>\n",
       "      <td>7,550,740</td>\n",
       "      <td>186,972</td>\n",
       "      <td>Could you survive on your own in the wild, wit...</td>\n",
       "      <td>I was forced into watching Mockingjay: Part II...</td>\n",
       "      <td>5.0</td>\n",
       "      <td>Miranda Reads</td>\n",
       "    </tr>\n",
       "    <tr>\n",
       "      <th>3</th>\n",
       "      <td>The Hunger Games</td>\n",
       "      <td>Suzanne Collins</td>\n",
       "      <td>4.32</td>\n",
       "      <td>7,550,740</td>\n",
       "      <td>186,972</td>\n",
       "      <td>Could you survive on your own in the wild, wit...</td>\n",
       "      <td>My \"Epic Book Recipe\" Checklist for The Hunger...</td>\n",
       "      <td>5.0</td>\n",
       "      <td>Khanh, first of her name, mother of bunnies</td>\n",
       "    </tr>\n",
       "    <tr>\n",
       "      <th>4</th>\n",
       "      <td>The Hunger Games</td>\n",
       "      <td>Suzanne Collins</td>\n",
       "      <td>4.32</td>\n",
       "      <td>7,550,740</td>\n",
       "      <td>186,972</td>\n",
       "      <td>Could you survive on your own in the wild, wit...</td>\n",
       "      <td>Absolute solid gold standard. Phenomenal. Don'...</td>\n",
       "      <td>5.0</td>\n",
       "      <td>Dija</td>\n",
       "    </tr>\n",
       "  </tbody>\n",
       "</table>\n",
       "</div>"
      ],
      "text/plain": [
       "                 bookName           author  rating  ratingCount  reviewCount  \\\n",
       "0        The Hunger Games  Suzanne Collins    4.32    7,550,740      186,972   \n",
       "1        The Hunger Games  Suzanne Collins    4.32    7,550,740      186,972   \n",
       "2        The Hunger Games  Suzanne Collins    4.32    7,550,740      186,972   \n",
       "3        The Hunger Games  Suzanne Collins    4.32    7,550,740      186,972   \n",
       "4        The Hunger Games  Suzanne Collins    4.32    7,550,740      186,972   \n",
       "\n",
       "                                             summary  \\\n",
       "0  Could you survive on your own in the wild, wit...   \n",
       "1  Could you survive on your own in the wild, wit...   \n",
       "2  Could you survive on your own in the wild, wit...   \n",
       "3  Could you survive on your own in the wild, wit...   \n",
       "4  Could you survive on your own in the wild, wit...   \n",
       "\n",
       "                                             reviews  rating_users  \\\n",
       "0  This review has been hidden because it contain...           5.0   \n",
       "1  Latest BookTube Video is up - a totally seriou...           4.0   \n",
       "2  I was forced into watching Mockingjay: Part II...           5.0   \n",
       "3  My \"Epic Book Recipe\" Checklist for The Hunger...           5.0   \n",
       "4  Absolute solid gold standard. Phenomenal. Don'...           5.0   \n",
       "\n",
       "                                          user  \n",
       "0                              Suzanne Collins  \n",
       "1                                       Saniya  \n",
       "2                                Miranda Reads  \n",
       "3  Khanh, first of her name, mother of bunnies  \n",
       "4                                         Dija  "
      ]
     },
     "execution_count": 4,
     "metadata": {},
     "output_type": "execute_result"
    }
   ],
   "source": [
    "goodreads.head(5)"
   ]
  },
  {
   "cell_type": "code",
   "execution_count": 5,
   "id": "533d4bde",
   "metadata": {},
   "outputs": [],
   "source": [
    "goodreads[\"ratingCount\"] = goodreads[\"ratingCount\"].str.replace(\",\", \"\")\n",
    "goodreads[\"reviewCount\"] = goodreads[\"reviewCount\"].str.replace(\",\", \"\")"
   ]
  },
  {
   "cell_type": "code",
   "execution_count": 6,
   "id": "2718d23c",
   "metadata": {},
   "outputs": [],
   "source": [
    "goodreads['bookName'] = goodreads['bookName'].str.strip()"
   ]
  },
  {
   "cell_type": "code",
   "execution_count": 7,
   "id": "26811bb7",
   "metadata": {},
   "outputs": [
    {
     "data": {
      "text/html": [
       "<div>\n",
       "<style scoped>\n",
       "    .dataframe tbody tr th:only-of-type {\n",
       "        vertical-align: middle;\n",
       "    }\n",
       "\n",
       "    .dataframe tbody tr th {\n",
       "        vertical-align: top;\n",
       "    }\n",
       "\n",
       "    .dataframe thead th {\n",
       "        text-align: right;\n",
       "    }\n",
       "</style>\n",
       "<table border=\"1\" class=\"dataframe\">\n",
       "  <thead>\n",
       "    <tr style=\"text-align: right;\">\n",
       "      <th></th>\n",
       "      <th>bookName</th>\n",
       "      <th>author</th>\n",
       "      <th>rating</th>\n",
       "      <th>ratingCount</th>\n",
       "      <th>reviewCount</th>\n",
       "      <th>summary</th>\n",
       "      <th>reviews</th>\n",
       "      <th>rating_users</th>\n",
       "      <th>user</th>\n",
       "    </tr>\n",
       "  </thead>\n",
       "  <tbody>\n",
       "    <tr>\n",
       "      <th>0</th>\n",
       "      <td>The Hunger Games</td>\n",
       "      <td>Suzanne Collins</td>\n",
       "      <td>4.32</td>\n",
       "      <td>7550740</td>\n",
       "      <td>186972</td>\n",
       "      <td>Could you survive on your own in the wild, wit...</td>\n",
       "      <td>This review has been hidden because it contain...</td>\n",
       "      <td>5.0</td>\n",
       "      <td>Suzanne Collins</td>\n",
       "    </tr>\n",
       "    <tr>\n",
       "      <th>1</th>\n",
       "      <td>The Hunger Games</td>\n",
       "      <td>Suzanne Collins</td>\n",
       "      <td>4.32</td>\n",
       "      <td>7550740</td>\n",
       "      <td>186972</td>\n",
       "      <td>Could you survive on your own in the wild, wit...</td>\n",
       "      <td>Latest BookTube Video is up - a totally seriou...</td>\n",
       "      <td>4.0</td>\n",
       "      <td>Saniya</td>\n",
       "    </tr>\n",
       "    <tr>\n",
       "      <th>2</th>\n",
       "      <td>The Hunger Games</td>\n",
       "      <td>Suzanne Collins</td>\n",
       "      <td>4.32</td>\n",
       "      <td>7550740</td>\n",
       "      <td>186972</td>\n",
       "      <td>Could you survive on your own in the wild, wit...</td>\n",
       "      <td>I was forced into watching Mockingjay: Part II...</td>\n",
       "      <td>5.0</td>\n",
       "      <td>Miranda Reads</td>\n",
       "    </tr>\n",
       "    <tr>\n",
       "      <th>3</th>\n",
       "      <td>The Hunger Games</td>\n",
       "      <td>Suzanne Collins</td>\n",
       "      <td>4.32</td>\n",
       "      <td>7550740</td>\n",
       "      <td>186972</td>\n",
       "      <td>Could you survive on your own in the wild, wit...</td>\n",
       "      <td>My \"Epic Book Recipe\" Checklist for The Hunger...</td>\n",
       "      <td>5.0</td>\n",
       "      <td>Khanh, first of her name, mother of bunnies</td>\n",
       "    </tr>\n",
       "    <tr>\n",
       "      <th>4</th>\n",
       "      <td>The Hunger Games</td>\n",
       "      <td>Suzanne Collins</td>\n",
       "      <td>4.32</td>\n",
       "      <td>7550740</td>\n",
       "      <td>186972</td>\n",
       "      <td>Could you survive on your own in the wild, wit...</td>\n",
       "      <td>Absolute solid gold standard. Phenomenal. Don'...</td>\n",
       "      <td>5.0</td>\n",
       "      <td>Dija</td>\n",
       "    </tr>\n",
       "  </tbody>\n",
       "</table>\n",
       "</div>"
      ],
      "text/plain": [
       "           bookName           author  rating ratingCount reviewCount  \\\n",
       "0  The Hunger Games  Suzanne Collins    4.32     7550740      186972   \n",
       "1  The Hunger Games  Suzanne Collins    4.32     7550740      186972   \n",
       "2  The Hunger Games  Suzanne Collins    4.32     7550740      186972   \n",
       "3  The Hunger Games  Suzanne Collins    4.32     7550740      186972   \n",
       "4  The Hunger Games  Suzanne Collins    4.32     7550740      186972   \n",
       "\n",
       "                                             summary  \\\n",
       "0  Could you survive on your own in the wild, wit...   \n",
       "1  Could you survive on your own in the wild, wit...   \n",
       "2  Could you survive on your own in the wild, wit...   \n",
       "3  Could you survive on your own in the wild, wit...   \n",
       "4  Could you survive on your own in the wild, wit...   \n",
       "\n",
       "                                             reviews  rating_users  \\\n",
       "0  This review has been hidden because it contain...           5.0   \n",
       "1  Latest BookTube Video is up - a totally seriou...           4.0   \n",
       "2  I was forced into watching Mockingjay: Part II...           5.0   \n",
       "3  My \"Epic Book Recipe\" Checklist for The Hunger...           5.0   \n",
       "4  Absolute solid gold standard. Phenomenal. Don'...           5.0   \n",
       "\n",
       "                                          user  \n",
       "0                              Suzanne Collins  \n",
       "1                                       Saniya  \n",
       "2                                Miranda Reads  \n",
       "3  Khanh, first of her name, mother of bunnies  \n",
       "4                                         Dija  "
      ]
     },
     "execution_count": 7,
     "metadata": {},
     "output_type": "execute_result"
    }
   ],
   "source": [
    "goodreads.head(5)"
   ]
  },
  {
   "cell_type": "code",
   "execution_count": 14,
   "id": "7ad5a51d",
   "metadata": {},
   "outputs": [
    {
     "name": "stdout",
     "output_type": "stream",
     "text": [
      "showing info https://raw.githubusercontent.com/nltk/nltk_data/gh-pages/index.xml\n"
     ]
    },
    {
     "data": {
      "text/plain": [
       "True"
      ]
     },
     "execution_count": 14,
     "metadata": {},
     "output_type": "execute_result"
    }
   ],
   "source": [
    "import pandas as pd\n",
    "import re\n",
    "import gensim\n",
    "from nltk.stem import WordNetLemmatizer\n",
    "import nltk\n",
    "nltk.download()"
   ]
  },
  {
   "cell_type": "code",
   "execution_count": 8,
   "id": "2fc2618d",
   "metadata": {},
   "outputs": [
    {
     "name": "stdout",
     "output_type": "stream",
     "text": [
      "showing info https://raw.githubusercontent.com/nltk/nltk_data/gh-pages/index.xml\n"
     ]
    }
   ],
   "source": [
    "import pandas as pd\n",
    "import re\n",
    "import gensim\n",
    "from nltk.stem import WordNetLemmatizer\n",
    "import nltk\n",
    "nltk.download()\n",
    "\n",
    "punctuation = '!\"$%&\\'()*+,-./:;<=>?[\\\\]^_`{|}~•@'    "
   ]
  },
  {
   "cell_type": "code",
   "execution_count": 9,
   "id": "54a92e3c",
   "metadata": {},
   "outputs": [
    {
     "data": {
      "text/plain": [
       "Thunderhead                                                                                          60\n",
       "Undone                                                                                               60\n",
       "Radiance                                                                                             59\n",
       "Pure                                                                                                 58\n",
       "The Reckoning                                                                                        58\n",
       "                                                                                                     ..\n",
       "Coeur pourri de laine (DF)                                                                            1\n",
       "Successful Freelancing And Outsourcing: A Guide To Make Money Online And Increase Business Profit     1\n",
       "The Wedding                                                                                           1\n",
       "(Un) Spoken                                                                                           1\n",
       "Laços fortes e decisões difíceis                                                                      1\n",
       "Name: bookName, Length: 2445, dtype: int64"
      ]
     },
     "execution_count": 9,
     "metadata": {},
     "output_type": "execute_result"
    }
   ],
   "source": [
    "goodreads['bookName'].value_counts()"
   ]
  },
  {
   "cell_type": "code",
   "execution_count": 42,
   "id": "88194dc3",
   "metadata": {},
   "outputs": [
    {
     "data": {
      "text/plain": [
       "2445"
      ]
     },
     "execution_count": 42,
     "metadata": {},
     "output_type": "execute_result"
    }
   ],
   "source": [
    "len(pd.unique(goodreads[\"bookName\"]))"
   ]
  },
  {
   "cell_type": "code",
   "execution_count": 43,
   "id": "1062f8b4",
   "metadata": {},
   "outputs": [],
   "source": [
    "df = goodreads.drop_duplicates(subset = \"bookName\")"
   ]
  },
  {
   "cell_type": "code",
   "execution_count": 44,
   "id": "28aa0238",
   "metadata": {},
   "outputs": [
    {
     "data": {
      "text/plain": [
       "(2445, 9)"
      ]
     },
     "execution_count": 44,
     "metadata": {},
     "output_type": "execute_result"
    }
   ],
   "source": [
    "df.shape"
   ]
  },
  {
   "cell_type": "code",
   "execution_count": 45,
   "id": "146edbd6",
   "metadata": {},
   "outputs": [
    {
     "data": {
      "text/html": [
       "<div>\n",
       "<style scoped>\n",
       "    .dataframe tbody tr th:only-of-type {\n",
       "        vertical-align: middle;\n",
       "    }\n",
       "\n",
       "    .dataframe tbody tr th {\n",
       "        vertical-align: top;\n",
       "    }\n",
       "\n",
       "    .dataframe thead th {\n",
       "        text-align: right;\n",
       "    }\n",
       "</style>\n",
       "<table border=\"1\" class=\"dataframe\">\n",
       "  <thead>\n",
       "    <tr style=\"text-align: right;\">\n",
       "      <th></th>\n",
       "      <th>bookName</th>\n",
       "      <th>author</th>\n",
       "      <th>rating</th>\n",
       "      <th>ratingCount</th>\n",
       "      <th>reviewCount</th>\n",
       "      <th>summary</th>\n",
       "      <th>reviews</th>\n",
       "      <th>rating_users</th>\n",
       "      <th>user</th>\n",
       "    </tr>\n",
       "  </thead>\n",
       "  <tbody>\n",
       "    <tr>\n",
       "      <th>0</th>\n",
       "      <td>The Hunger Games</td>\n",
       "      <td>Suzanne Collins</td>\n",
       "      <td>4.32</td>\n",
       "      <td>7550740</td>\n",
       "      <td>186972</td>\n",
       "      <td>Could you survive on your own in the wild, wit...</td>\n",
       "      <td>This review has been hidden because it contain...</td>\n",
       "      <td>5.0</td>\n",
       "      <td>Suzanne Collins</td>\n",
       "    </tr>\n",
       "    <tr>\n",
       "      <th>30</th>\n",
       "      <td>Harry Potter and the Order of the Phoenix</td>\n",
       "      <td>J.K. Rowling</td>\n",
       "      <td>4.50</td>\n",
       "      <td>2999225</td>\n",
       "      <td>53202</td>\n",
       "      <td>There is a door at the end of a silent corrido...</td>\n",
       "      <td>“Is it true that you shouted at Professor Umbr...</td>\n",
       "      <td>5.0</td>\n",
       "      <td>J.K. Rowling, \\n\\n\\nMary GrandPré (Illustrator)</td>\n",
       "    </tr>\n",
       "    <tr>\n",
       "      <th>58</th>\n",
       "      <td>J.R.R. Tolkien 4-Book Boxed Set: The Hobbit an...</td>\n",
       "      <td>J.R.R. Tolkien</td>\n",
       "      <td>4.61</td>\n",
       "      <td>123988</td>\n",
       "      <td>2034</td>\n",
       "      <td>This four-volume, boxed set contains J.R.R. To...</td>\n",
       "      <td>Some will shout with joy, others will scream i...</td>\n",
       "      <td>5.0</td>\n",
       "      <td>J.R.R. Tolkien</td>\n",
       "    </tr>\n",
       "    <tr>\n",
       "      <th>86</th>\n",
       "      <td>Wuthering Heights</td>\n",
       "      <td>Emily Brontë</td>\n",
       "      <td>3.88</td>\n",
       "      <td>1597429</td>\n",
       "      <td>48940</td>\n",
       "      <td>You can find the redesigned cover of this edit...</td>\n",
       "      <td>I am just on fire with so much admiration for ...</td>\n",
       "      <td>5.0</td>\n",
       "      <td>Emily Brontë, \\n\\n\\nRichard J. Dunn (Editor), ...</td>\n",
       "    </tr>\n",
       "    <tr>\n",
       "      <th>116</th>\n",
       "      <td>The Da Vinci Code</td>\n",
       "      <td>Dan Brown</td>\n",
       "      <td>3.89</td>\n",
       "      <td>2176805</td>\n",
       "      <td>51255</td>\n",
       "      <td>ISBN 9780307277671 moved to this edition.While...</td>\n",
       "      <td>Four stars for pure entertainment value.Howeve...</td>\n",
       "      <td>3.0</td>\n",
       "      <td>Dan Brown (Goodreads Author)</td>\n",
       "    </tr>\n",
       "  </tbody>\n",
       "</table>\n",
       "</div>"
      ],
      "text/plain": [
       "                                              bookName           author  \\\n",
       "0                                     The Hunger Games  Suzanne Collins   \n",
       "30           Harry Potter and the Order of the Phoenix     J.K. Rowling   \n",
       "58   J.R.R. Tolkien 4-Book Boxed Set: The Hobbit an...   J.R.R. Tolkien   \n",
       "86                                   Wuthering Heights     Emily Brontë   \n",
       "116                                  The Da Vinci Code        Dan Brown   \n",
       "\n",
       "     rating ratingCount reviewCount  \\\n",
       "0      4.32     7550740      186972   \n",
       "30     4.50     2999225       53202   \n",
       "58     4.61      123988        2034   \n",
       "86     3.88     1597429       48940   \n",
       "116    3.89     2176805       51255   \n",
       "\n",
       "                                               summary  \\\n",
       "0    Could you survive on your own in the wild, wit...   \n",
       "30   There is a door at the end of a silent corrido...   \n",
       "58   This four-volume, boxed set contains J.R.R. To...   \n",
       "86   You can find the redesigned cover of this edit...   \n",
       "116  ISBN 9780307277671 moved to this edition.While...   \n",
       "\n",
       "                                               reviews  rating_users  \\\n",
       "0    This review has been hidden because it contain...           5.0   \n",
       "30   “Is it true that you shouted at Professor Umbr...           5.0   \n",
       "58   Some will shout with joy, others will scream i...           5.0   \n",
       "86   I am just on fire with so much admiration for ...           5.0   \n",
       "116  Four stars for pure entertainment value.Howeve...           3.0   \n",
       "\n",
       "                                                  user  \n",
       "0                                      Suzanne Collins  \n",
       "30     J.K. Rowling, \\n\\n\\nMary GrandPré (Illustrator)  \n",
       "58                                      J.R.R. Tolkien  \n",
       "86   Emily Brontë, \\n\\n\\nRichard J. Dunn (Editor), ...  \n",
       "116                       Dan Brown (Goodreads Author)  "
      ]
     },
     "execution_count": 45,
     "metadata": {},
     "output_type": "execute_result"
    }
   ],
   "source": [
    "df.head(5)"
   ]
  },
  {
   "cell_type": "code",
   "execution_count": 17,
   "id": "e1d7445d",
   "metadata": {},
   "outputs": [
    {
     "name": "stderr",
     "output_type": "stream",
     "text": [
      "/var/folders/90/_lwt0ls51gv2bkw5mnzmk25r0000gp/T/ipykernel_68707/2848276597.py:1: SettingWithCopyWarning: \n",
      "A value is trying to be set on a copy of a slice from a DataFrame.\n",
      "Try using .loc[row_indexer,col_indexer] = value instead\n",
      "\n",
      "See the caveats in the documentation: https://pandas.pydata.org/pandas-docs/stable/user_guide/indexing.html#returning-a-view-versus-a-copy\n",
      "  df[\"reviews\"] = df[\"reviews\"].astype('string')\n"
     ]
    }
   ],
   "source": [
    "df[\"reviews\"] = df[\"reviews\"].astype('string')"
   ]
  },
  {
   "cell_type": "code",
   "execution_count": 46,
   "id": "cbc61808",
   "metadata": {},
   "outputs": [
    {
     "name": "stdout",
     "output_type": "stream",
     "text": [
      "<class 'pandas.core.frame.DataFrame'>\n",
      "Int64Index: 2445 entries, 0 to 69651\n",
      "Data columns (total 9 columns):\n",
      " #   Column        Non-Null Count  Dtype  \n",
      "---  ------        --------------  -----  \n",
      " 0   bookName      2445 non-null   object \n",
      " 1   author        2445 non-null   object \n",
      " 2   rating        2445 non-null   float64\n",
      " 3   ratingCount   2445 non-null   object \n",
      " 4   reviewCount   2445 non-null   object \n",
      " 5   summary       2404 non-null   object \n",
      " 6   reviews       2441 non-null   object \n",
      " 7   rating_users  2441 non-null   float64\n",
      " 8   user          2441 non-null   object \n",
      "dtypes: float64(2), object(7)\n",
      "memory usage: 191.0+ KB\n"
     ]
    }
   ],
   "source": [
    "df.info()"
   ]
  },
  {
   "cell_type": "code",
   "execution_count": 58,
   "id": "fb10647d",
   "metadata": {},
   "outputs": [],
   "source": [
    "# Text preprocessing steps - remove numbers, captial letters and punctuation\n",
    "import re\n",
    "import string\n",
    "\n",
    "alphanumeric = lambda x: re.sub('\\w*\\d\\w*', ' ', str(x))\n",
    "punc_lower = lambda x: re.sub('[%s]' % re.escape(string.punctuation), ' ', x.lower())\n",
    "\n"
   ]
  },
  {
   "cell_type": "code",
   "execution_count": 57,
   "id": "4c94af77",
   "metadata": {},
   "outputs": [
    {
     "name": "stderr",
     "output_type": "stream",
     "text": [
      "/var/folders/90/_lwt0ls51gv2bkw5mnzmk25r0000gp/T/ipykernel_68707/1322876176.py:1: SettingWithCopyWarning: \n",
      "A value is trying to be set on a copy of a slice from a DataFrame.\n",
      "Try using .loc[row_indexer,col_indexer] = value instead\n",
      "\n",
      "See the caveats in the documentation: https://pandas.pydata.org/pandas-docs/stable/user_guide/indexing.html#returning-a-view-versus-a-copy\n",
      "  df['reviews'] = df.reviews.map(alphanumeric).map(punc_lower)\n"
     ]
    }
   ],
   "source": [
    "df['reviews'] = df.reviews.map(alphanumeric).map(punc_lower)\n"
   ]
  },
  {
   "cell_type": "code",
   "execution_count": 59,
   "id": "005c920b",
   "metadata": {},
   "outputs": [
    {
     "data": {
      "text/plain": [
       "0      this review has been hidden because it contain...\n",
       "30     “is it true that you shouted at professor umbr...\n",
       "58     some will shout with joy  others will scream i...\n",
       "86     i am just on fire with so much admiration for ...\n",
       "116    four stars for pure entertainment value howeve...\n",
       "Name: reviews, dtype: object"
      ]
     },
     "execution_count": 59,
     "metadata": {},
     "output_type": "execute_result"
    }
   ],
   "source": [
    "df['reviews'].head(5)"
   ]
  },
  {
   "cell_type": "code",
   "execution_count": 61,
   "id": "550a1c61",
   "metadata": {},
   "outputs": [],
   "source": [
    "from nltk.corpus import stopwords\n",
    "stop = stopwords.words('english')"
   ]
  },
  {
   "cell_type": "code",
   "execution_count": 67,
   "id": "625bbae8",
   "metadata": {},
   "outputs": [
    {
     "data": {
      "text/html": [
       "<div>\n",
       "<style scoped>\n",
       "    .dataframe tbody tr th:only-of-type {\n",
       "        vertical-align: middle;\n",
       "    }\n",
       "\n",
       "    .dataframe tbody tr th {\n",
       "        vertical-align: top;\n",
       "    }\n",
       "\n",
       "    .dataframe thead th {\n",
       "        text-align: right;\n",
       "    }\n",
       "</style>\n",
       "<table border=\"1\" class=\"dataframe\">\n",
       "  <thead>\n",
       "    <tr style=\"text-align: right;\">\n",
       "      <th></th>\n",
       "      <th>bookName</th>\n",
       "      <th>author</th>\n",
       "      <th>rating</th>\n",
       "      <th>ratingCount</th>\n",
       "      <th>reviewCount</th>\n",
       "      <th>summary</th>\n",
       "      <th>reviews</th>\n",
       "      <th>rating_users</th>\n",
       "      <th>user</th>\n",
       "    </tr>\n",
       "  </thead>\n",
       "  <tbody>\n",
       "    <tr>\n",
       "      <th>0</th>\n",
       "      <td>The Hunger Games</td>\n",
       "      <td>Suzanne Collins</td>\n",
       "      <td>4.32</td>\n",
       "      <td>7550740</td>\n",
       "      <td>186972</td>\n",
       "      <td>Could you survive on your own in the wild, wit...</td>\n",
       "      <td>this review has been hidden because it contain...</td>\n",
       "      <td>5.0</td>\n",
       "      <td>Suzanne Collins</td>\n",
       "    </tr>\n",
       "    <tr>\n",
       "      <th>30</th>\n",
       "      <td>Harry Potter and the Order of the Phoenix</td>\n",
       "      <td>J.K. Rowling</td>\n",
       "      <td>4.50</td>\n",
       "      <td>2999225</td>\n",
       "      <td>53202</td>\n",
       "      <td>There is a door at the end of a silent corrido...</td>\n",
       "      <td>“is it true that you shouted at professor umbr...</td>\n",
       "      <td>5.0</td>\n",
       "      <td>J.K. Rowling, \\n\\n\\nMary GrandPré (Illustrator)</td>\n",
       "    </tr>\n",
       "    <tr>\n",
       "      <th>58</th>\n",
       "      <td>J.R.R. Tolkien 4-Book Boxed Set: The Hobbit an...</td>\n",
       "      <td>J.R.R. Tolkien</td>\n",
       "      <td>4.61</td>\n",
       "      <td>123988</td>\n",
       "      <td>2034</td>\n",
       "      <td>This four-volume, boxed set contains J.R.R. To...</td>\n",
       "      <td>some will shout with joy  others will scream i...</td>\n",
       "      <td>5.0</td>\n",
       "      <td>J.R.R. Tolkien</td>\n",
       "    </tr>\n",
       "    <tr>\n",
       "      <th>86</th>\n",
       "      <td>Wuthering Heights</td>\n",
       "      <td>Emily Brontë</td>\n",
       "      <td>3.88</td>\n",
       "      <td>1597429</td>\n",
       "      <td>48940</td>\n",
       "      <td>You can find the redesigned cover of this edit...</td>\n",
       "      <td>i am just on fire with so much admiration for ...</td>\n",
       "      <td>5.0</td>\n",
       "      <td>Emily Brontë, \\n\\n\\nRichard J. Dunn (Editor), ...</td>\n",
       "    </tr>\n",
       "    <tr>\n",
       "      <th>116</th>\n",
       "      <td>The Da Vinci Code</td>\n",
       "      <td>Dan Brown</td>\n",
       "      <td>3.89</td>\n",
       "      <td>2176805</td>\n",
       "      <td>51255</td>\n",
       "      <td>ISBN 9780307277671 moved to this edition.While...</td>\n",
       "      <td>four stars for pure entertainment value howeve...</td>\n",
       "      <td>3.0</td>\n",
       "      <td>Dan Brown (Goodreads Author)</td>\n",
       "    </tr>\n",
       "  </tbody>\n",
       "</table>\n",
       "</div>"
      ],
      "text/plain": [
       "                                              bookName           author  \\\n",
       "0                                     The Hunger Games  Suzanne Collins   \n",
       "30           Harry Potter and the Order of the Phoenix     J.K. Rowling   \n",
       "58   J.R.R. Tolkien 4-Book Boxed Set: The Hobbit an...   J.R.R. Tolkien   \n",
       "86                                   Wuthering Heights     Emily Brontë   \n",
       "116                                  The Da Vinci Code        Dan Brown   \n",
       "\n",
       "     rating ratingCount reviewCount  \\\n",
       "0      4.32     7550740      186972   \n",
       "30     4.50     2999225       53202   \n",
       "58     4.61      123988        2034   \n",
       "86     3.88     1597429       48940   \n",
       "116    3.89     2176805       51255   \n",
       "\n",
       "                                               summary  \\\n",
       "0    Could you survive on your own in the wild, wit...   \n",
       "30   There is a door at the end of a silent corrido...   \n",
       "58   This four-volume, boxed set contains J.R.R. To...   \n",
       "86   You can find the redesigned cover of this edit...   \n",
       "116  ISBN 9780307277671 moved to this edition.While...   \n",
       "\n",
       "                                               reviews  rating_users  \\\n",
       "0    this review has been hidden because it contain...           5.0   \n",
       "30   “is it true that you shouted at professor umbr...           5.0   \n",
       "58   some will shout with joy  others will scream i...           5.0   \n",
       "86   i am just on fire with so much admiration for ...           5.0   \n",
       "116  four stars for pure entertainment value howeve...           3.0   \n",
       "\n",
       "                                                  user  \n",
       "0                                      Suzanne Collins  \n",
       "30     J.K. Rowling, \\n\\n\\nMary GrandPré (Illustrator)  \n",
       "58                                      J.R.R. Tolkien  \n",
       "86   Emily Brontë, \\n\\n\\nRichard J. Dunn (Editor), ...  \n",
       "116                       Dan Brown (Goodreads Author)  "
      ]
     },
     "execution_count": 67,
     "metadata": {},
     "output_type": "execute_result"
    }
   ],
   "source": [
    "df.head(5)"
   ]
  },
  {
   "cell_type": "code",
   "execution_count": 68,
   "id": "f4132a0b",
   "metadata": {},
   "outputs": [
    {
     "name": "stderr",
     "output_type": "stream",
     "text": [
      "[nltk_data] Downloading package stopwords to\n",
      "[nltk_data]     /Users/birsenbas/nltk_data...\n",
      "[nltk_data]   Package stopwords is already up-to-date!\n",
      "/var/folders/90/_lwt0ls51gv2bkw5mnzmk25r0000gp/T/ipykernel_68707/3074925014.py:6: SettingWithCopyWarning: \n",
      "A value is trying to be set on a copy of a slice from a DataFrame.\n",
      "Try using .loc[row_indexer,col_indexer] = value instead\n",
      "\n",
      "See the caveats in the documentation: https://pandas.pydata.org/pandas-docs/stable/user_guide/indexing.html#returning-a-view-versus-a-copy\n",
      "  df['reviews'] = df['reviews'].apply(lambda x: ' '.join([word for word in x.split() if word not in (stop_words)]))\n"
     ]
    }
   ],
   "source": [
    "import nltk\n",
    "nltk.download('stopwords')\n",
    "from nltk.corpus import stopwords\n",
    "\n",
    "stop_words = stopwords.words('english')\n",
    "df['reviews'] = df['reviews'].apply(lambda x: ' '.join([word for word in x.split() if word not in (stop_words)]))"
   ]
  },
  {
   "cell_type": "code",
   "execution_count": 71,
   "id": "7a9470cf",
   "metadata": {},
   "outputs": [
    {
     "data": {
      "text/html": [
       "<div>\n",
       "<style scoped>\n",
       "    .dataframe tbody tr th:only-of-type {\n",
       "        vertical-align: middle;\n",
       "    }\n",
       "\n",
       "    .dataframe tbody tr th {\n",
       "        vertical-align: top;\n",
       "    }\n",
       "\n",
       "    .dataframe thead th {\n",
       "        text-align: right;\n",
       "    }\n",
       "</style>\n",
       "<table border=\"1\" class=\"dataframe\">\n",
       "  <thead>\n",
       "    <tr style=\"text-align: right;\">\n",
       "      <th></th>\n",
       "      <th>bookName</th>\n",
       "      <th>author</th>\n",
       "      <th>rating</th>\n",
       "      <th>ratingCount</th>\n",
       "      <th>reviewCount</th>\n",
       "      <th>summary</th>\n",
       "      <th>reviews</th>\n",
       "      <th>rating_users</th>\n",
       "      <th>user</th>\n",
       "    </tr>\n",
       "  </thead>\n",
       "  <tbody>\n",
       "    <tr>\n",
       "      <th>69392</th>\n",
       "      <td>The Traitor's Game</td>\n",
       "      <td>Jennifer A. Nielsen</td>\n",
       "      <td>3.83</td>\n",
       "      <td>9391</td>\n",
       "      <td>1313</td>\n",
       "      <td>Nothing is as it seems in the kingdom of Antor...</td>\n",
       "      <td>yes biased hope readers love book much adore k...</td>\n",
       "      <td>5.0</td>\n",
       "      <td>Jennifer A. Nielsen (Goodreads Author)</td>\n",
       "    </tr>\n",
       "    <tr>\n",
       "      <th>69420</th>\n",
       "      <td>Después de diciembre</td>\n",
       "      <td>Joana Marcús</td>\n",
       "      <td>4.41</td>\n",
       "      <td>34393</td>\n",
       "      <td>2698</td>\n",
       "      <td>El tiempo podía transcurrir con mucha mas lent...</td>\n",
       "      <td>alexa play back december taylor swift ☆</td>\n",
       "      <td>3.0</td>\n",
       "      <td>Joana Marcús (Goodreads Author)</td>\n",
       "    </tr>\n",
       "    <tr>\n",
       "      <th>69450</th>\n",
       "      <td>Tessa in Love</td>\n",
       "      <td>Kate le Vann</td>\n",
       "      <td>3.87</td>\n",
       "      <td>577</td>\n",
       "      <td>46</td>\n",
       "      <td>Tessa at sixteen, is pretty, but terribly shy ...</td>\n",
       "      <td>reading book went emotions known man tessa fel...</td>\n",
       "      <td>5.0</td>\n",
       "      <td>Kate le Vann</td>\n",
       "    </tr>\n",
       "    <tr>\n",
       "      <th>69478</th>\n",
       "      <td>Six Frigates: The Epic History of the Founding...</td>\n",
       "      <td>Ian W. Toll</td>\n",
       "      <td>4.35</td>\n",
       "      <td>6195</td>\n",
       "      <td>506</td>\n",
       "      <td>How \"a handful of bastards and outlaws fightin...</td>\n",
       "      <td>magnificent reading vivid riveting star accoun...</td>\n",
       "      <td>5.0</td>\n",
       "      <td>Ian W. Toll (Goodreads Author)</td>\n",
       "    </tr>\n",
       "    <tr>\n",
       "      <th>69508</th>\n",
       "      <td>Blue Angel</td>\n",
       "      <td>Francine Prose</td>\n",
       "      <td>3.37</td>\n",
       "      <td>3605</td>\n",
       "      <td>475</td>\n",
       "      <td>It has been years since Swenson, a professor i...</td>\n",
       "      <td>love train wrecks better question book train w...</td>\n",
       "      <td>4.0</td>\n",
       "      <td>Francine Prose (Goodreads Author)</td>\n",
       "    </tr>\n",
       "    <tr>\n",
       "      <th>69536</th>\n",
       "      <td>Earth</td>\n",
       "      <td>David Brin</td>\n",
       "      <td>3.93</td>\n",
       "      <td>7194</td>\n",
       "      <td>317</td>\n",
       "      <td>TIME IS RUNNING OUT Decades from now, an artif...</td>\n",
       "      <td>easy read spite well written accessible prose ...</td>\n",
       "      <td>4.0</td>\n",
       "      <td>David Brin (Goodreads Author)</td>\n",
       "    </tr>\n",
       "    <tr>\n",
       "      <th>69566</th>\n",
       "      <td>The Ship of Brides</td>\n",
       "      <td>Jojo Moyes</td>\n",
       "      <td>3.84</td>\n",
       "      <td>36448</td>\n",
       "      <td>3122</td>\n",
       "      <td>From the New York Times bestselling author of ...</td>\n",
       "      <td>think would picked synopsis sound exciting got...</td>\n",
       "      <td>5.0</td>\n",
       "      <td>Jojo Moyes (Goodreads Author)</td>\n",
       "    </tr>\n",
       "    <tr>\n",
       "      <th>69596</th>\n",
       "      <td>لماذا من حولك أغبياء؟</td>\n",
       "      <td>Sherif Arafa</td>\n",
       "      <td>3.77</td>\n",
       "      <td>7686</td>\n",
       "      <td>908</td>\n",
       "      <td>أنت شخص ذكي، وإلا لما جذبك عنوان الكتاب، ولما ...</td>\n",
       "      <td>okay decide feelings book mixed simply non exi...</td>\n",
       "      <td>2.0</td>\n",
       "      <td>Sherif Arafa (Goodreads Author)</td>\n",
       "    </tr>\n",
       "    <tr>\n",
       "      <th>69622</th>\n",
       "      <td>Variant</td>\n",
       "      <td>Robison Wells</td>\n",
       "      <td>3.93</td>\n",
       "      <td>22257</td>\n",
       "      <td>2758</td>\n",
       "      <td>Benson Fisher thought that a scholarship to Ma...</td>\n",
       "      <td>completely unbiased rating completely unbiased...</td>\n",
       "      <td>5.0</td>\n",
       "      <td>Robison Wells (Goodreads Author)</td>\n",
       "    </tr>\n",
       "    <tr>\n",
       "      <th>69651</th>\n",
       "      <td>Zig Zag</td>\n",
       "      <td>José Carlos Somoza</td>\n",
       "      <td>3.72</td>\n",
       "      <td>1751</td>\n",
       "      <td>172</td>\n",
       "      <td>While an advanced physics graduate student at ...</td>\n",
       "      <td>scientists truth truth scientists karl schlect...</td>\n",
       "      <td>3.0</td>\n",
       "      <td>José Carlos Somoza, \\n\\n\\nLisa Dillman (Transl...</td>\n",
       "    </tr>\n",
       "  </tbody>\n",
       "</table>\n",
       "</div>"
      ],
      "text/plain": [
       "                                                bookName               author  \\\n",
       "69392                                 The Traitor's Game  Jennifer A. Nielsen   \n",
       "69420                               Después de diciembre         Joana Marcús   \n",
       "69450                                      Tessa in Love         Kate le Vann   \n",
       "69478  Six Frigates: The Epic History of the Founding...          Ian W. Toll   \n",
       "69508                                         Blue Angel       Francine Prose   \n",
       "69536                                              Earth           David Brin   \n",
       "69566                                 The Ship of Brides           Jojo Moyes   \n",
       "69596                              لماذا من حولك أغبياء؟         Sherif Arafa   \n",
       "69622                                            Variant        Robison Wells   \n",
       "69651                                            Zig Zag   José Carlos Somoza   \n",
       "\n",
       "       rating ratingCount reviewCount  \\\n",
       "69392    3.83        9391        1313   \n",
       "69420    4.41       34393        2698   \n",
       "69450    3.87         577          46   \n",
       "69478    4.35        6195         506   \n",
       "69508    3.37        3605         475   \n",
       "69536    3.93        7194         317   \n",
       "69566    3.84       36448        3122   \n",
       "69596    3.77        7686         908   \n",
       "69622    3.93       22257        2758   \n",
       "69651    3.72        1751         172   \n",
       "\n",
       "                                                 summary  \\\n",
       "69392  Nothing is as it seems in the kingdom of Antor...   \n",
       "69420  El tiempo podía transcurrir con mucha mas lent...   \n",
       "69450  Tessa at sixteen, is pretty, but terribly shy ...   \n",
       "69478  How \"a handful of bastards and outlaws fightin...   \n",
       "69508  It has been years since Swenson, a professor i...   \n",
       "69536  TIME IS RUNNING OUT Decades from now, an artif...   \n",
       "69566  From the New York Times bestselling author of ...   \n",
       "69596  أنت شخص ذكي، وإلا لما جذبك عنوان الكتاب، ولما ...   \n",
       "69622  Benson Fisher thought that a scholarship to Ma...   \n",
       "69651  While an advanced physics graduate student at ...   \n",
       "\n",
       "                                                 reviews  rating_users  \\\n",
       "69392  yes biased hope readers love book much adore k...           5.0   \n",
       "69420            alexa play back december taylor swift ☆           3.0   \n",
       "69450  reading book went emotions known man tessa fel...           5.0   \n",
       "69478  magnificent reading vivid riveting star accoun...           5.0   \n",
       "69508  love train wrecks better question book train w...           4.0   \n",
       "69536  easy read spite well written accessible prose ...           4.0   \n",
       "69566  think would picked synopsis sound exciting got...           5.0   \n",
       "69596  okay decide feelings book mixed simply non exi...           2.0   \n",
       "69622  completely unbiased rating completely unbiased...           5.0   \n",
       "69651  scientists truth truth scientists karl schlect...           3.0   \n",
       "\n",
       "                                                    user  \n",
       "69392             Jennifer A. Nielsen (Goodreads Author)  \n",
       "69420                    Joana Marcús (Goodreads Author)  \n",
       "69450                                       Kate le Vann  \n",
       "69478                     Ian W. Toll (Goodreads Author)  \n",
       "69508                  Francine Prose (Goodreads Author)  \n",
       "69536                      David Brin (Goodreads Author)  \n",
       "69566                      Jojo Moyes (Goodreads Author)  \n",
       "69596                    Sherif Arafa (Goodreads Author)  \n",
       "69622                   Robison Wells (Goodreads Author)  \n",
       "69651  José Carlos Somoza, \\n\\n\\nLisa Dillman (Transl...  "
      ]
     },
     "execution_count": 71,
     "metadata": {},
     "output_type": "execute_result"
    }
   ],
   "source": [
    "df.tail(10)"
   ]
  },
  {
   "cell_type": "code",
   "execution_count": 72,
   "id": "d45f05bf",
   "metadata": {},
   "outputs": [
    {
     "name": "stderr",
     "output_type": "stream",
     "text": [
      "/var/folders/90/_lwt0ls51gv2bkw5mnzmk25r0000gp/T/ipykernel_68707/1498028343.py:1: SettingWithCopyWarning: \n",
      "A value is trying to be set on a copy of a slice from a DataFrame.\n",
      "Try using .loc[row_indexer,col_indexer] = value instead\n",
      "\n",
      "See the caveats in the documentation: https://pandas.pydata.org/pandas-docs/stable/user_guide/indexing.html#returning-a-view-versus-a-copy\n",
      "  df['summary'] = df.summary.map(alphanumeric).map(punc_lower)\n"
     ]
    }
   ],
   "source": [
    "df['summary'] = df.summary.map(alphanumeric).map(punc_lower)"
   ]
  },
  {
   "cell_type": "code",
   "execution_count": 73,
   "id": "5015dc4b",
   "metadata": {},
   "outputs": [
    {
     "name": "stderr",
     "output_type": "stream",
     "text": [
      "/var/folders/90/_lwt0ls51gv2bkw5mnzmk25r0000gp/T/ipykernel_68707/886330198.py:1: SettingWithCopyWarning: \n",
      "A value is trying to be set on a copy of a slice from a DataFrame.\n",
      "Try using .loc[row_indexer,col_indexer] = value instead\n",
      "\n",
      "See the caveats in the documentation: https://pandas.pydata.org/pandas-docs/stable/user_guide/indexing.html#returning-a-view-versus-a-copy\n",
      "  df['summary'] = df['summary'].apply(lambda x: ' '.join([word for word in x.split() if word not in (stop_words)]))\n"
     ]
    }
   ],
   "source": [
    "df['summary'] = df['summary'].apply(lambda x: ' '.join([word for word in x.split() if word not in (stop_words)]))"
   ]
  },
  {
   "cell_type": "code",
   "execution_count": 74,
   "id": "3b243cac",
   "metadata": {},
   "outputs": [
    {
     "data": {
      "text/plain": [
       "0      could survive wild every one make sure live se...\n",
       "30     door end silent corridor it’s haunting harry p...\n",
       "58     four volume boxed set contains j r r tolkien e...\n",
       "86     find redesigned cover edition best selling nor...\n",
       "116    isbn moved edition paris harvard symbologist r...\n",
       "Name: summary, dtype: object"
      ]
     },
     "execution_count": 74,
     "metadata": {},
     "output_type": "execute_result"
    }
   ],
   "source": [
    "df['summary'].head(5)"
   ]
  },
  {
   "cell_type": "code",
   "execution_count": 128,
   "id": "d5ce1bac",
   "metadata": {},
   "outputs": [
    {
     "data": {
      "text/html": [
       "<div>\n",
       "<style scoped>\n",
       "    .dataframe tbody tr th:only-of-type {\n",
       "        vertical-align: middle;\n",
       "    }\n",
       "\n",
       "    .dataframe tbody tr th {\n",
       "        vertical-align: top;\n",
       "    }\n",
       "\n",
       "    .dataframe thead th {\n",
       "        text-align: right;\n",
       "    }\n",
       "</style>\n",
       "<table border=\"1\" class=\"dataframe\">\n",
       "  <thead>\n",
       "    <tr style=\"text-align: right;\">\n",
       "      <th></th>\n",
       "      <th>bookName</th>\n",
       "      <th>author</th>\n",
       "      <th>rating</th>\n",
       "      <th>ratingCount</th>\n",
       "      <th>reviewCount</th>\n",
       "      <th>summary</th>\n",
       "      <th>reviews</th>\n",
       "      <th>rating_users</th>\n",
       "      <th>user</th>\n",
       "    </tr>\n",
       "  </thead>\n",
       "  <tbody>\n",
       "    <tr>\n",
       "      <th>0</th>\n",
       "      <td>The Hunger Games</td>\n",
       "      <td>Suzanne Collins</td>\n",
       "      <td>4.32</td>\n",
       "      <td>7550740</td>\n",
       "      <td>186972</td>\n",
       "      <td>could survive wild every one make sure live se...</td>\n",
       "      <td>review hidden contains spoilers view click lma...</td>\n",
       "      <td>5.0</td>\n",
       "      <td>Suzanne Collins</td>\n",
       "    </tr>\n",
       "    <tr>\n",
       "      <th>30</th>\n",
       "      <td>Harry Potter and the Order of the Phoenix</td>\n",
       "      <td>J.K. Rowling</td>\n",
       "      <td>4.50</td>\n",
       "      <td>2999225</td>\n",
       "      <td>53202</td>\n",
       "      <td>door end silent corridor it’s haunting harry p...</td>\n",
       "      <td>“is true shouted professor umbridge yes called...</td>\n",
       "      <td>5.0</td>\n",
       "      <td>J.K. Rowling, \\n\\n\\nMary GrandPré (Illustrator)</td>\n",
       "    </tr>\n",
       "    <tr>\n",
       "      <th>58</th>\n",
       "      <td>J.R.R. Tolkien 4-Book Boxed Set: The Hobbit an...</td>\n",
       "      <td>J.R.R. Tolkien</td>\n",
       "      <td>4.61</td>\n",
       "      <td>123988</td>\n",
       "      <td>2034</td>\n",
       "      <td>four volume boxed set contains j r r tolkien e...</td>\n",
       "      <td>shout joy others scream derision however agree...</td>\n",
       "      <td>5.0</td>\n",
       "      <td>J.R.R. Tolkien</td>\n",
       "    </tr>\n",
       "    <tr>\n",
       "      <th>86</th>\n",
       "      <td>Wuthering Heights</td>\n",
       "      <td>Emily Brontë</td>\n",
       "      <td>3.88</td>\n",
       "      <td>1597429</td>\n",
       "      <td>48940</td>\n",
       "      <td>find redesigned cover edition best selling nor...</td>\n",
       "      <td>fire much admiration emily brontë right wuther...</td>\n",
       "      <td>5.0</td>\n",
       "      <td>Emily Brontë, \\n\\n\\nRichard J. Dunn (Editor), ...</td>\n",
       "    </tr>\n",
       "    <tr>\n",
       "      <th>116</th>\n",
       "      <td>The Da Vinci Code</td>\n",
       "      <td>Dan Brown</td>\n",
       "      <td>3.89</td>\n",
       "      <td>2176805</td>\n",
       "      <td>51255</td>\n",
       "      <td>isbn moved edition paris harvard symbologist r...</td>\n",
       "      <td>four stars pure entertainment value however da...</td>\n",
       "      <td>3.0</td>\n",
       "      <td>Dan Brown (Goodreads Author)</td>\n",
       "    </tr>\n",
       "    <tr>\n",
       "      <th>146</th>\n",
       "      <td>The Perks of Being a Wallflower</td>\n",
       "      <td>Stephen Chbosky</td>\n",
       "      <td>4.22</td>\n",
       "      <td>1556524</td>\n",
       "      <td>74254</td>\n",
       "      <td>standing fringes life offers unique perspectiv...</td>\n",
       "      <td>like lurk frequent tumblr realised far scroll ...</td>\n",
       "      <td>3.0</td>\n",
       "      <td>Stephen Chbosky, \\n\\n\\nEllen Karine Berg (Tran...</td>\n",
       "    </tr>\n",
       "    <tr>\n",
       "      <th>176</th>\n",
       "      <td>Les Misérables</td>\n",
       "      <td>Victor Hugo</td>\n",
       "      <td>4.19</td>\n",
       "      <td>747771</td>\n",
       "      <td>20188</td>\n",
       "      <td>librarian note alternate cover edition isbn vi...</td>\n",
       "      <td>les misérables translated french miserable one...</td>\n",
       "      <td>5.0</td>\n",
       "      <td>Victor Hugo, \\n\\n\\nNorman MacAfee (Translator)...</td>\n",
       "    </tr>\n",
       "    <tr>\n",
       "      <th>205</th>\n",
       "      <td>Charlotte's Web</td>\n",
       "      <td>E.B. White</td>\n",
       "      <td>4.19</td>\n",
       "      <td>1654702</td>\n",
       "      <td>21122</td>\n",
       "      <td>beloved book e b white author stuart little tr...</td>\n",
       "      <td>give fig kid book charlotte web one well craft...</td>\n",
       "      <td>5.0</td>\n",
       "      <td>E.B. White, \\n\\n\\nGarth Williams (Illustrator)...</td>\n",
       "    </tr>\n",
       "    <tr>\n",
       "      <th>234</th>\n",
       "      <td>Dracula</td>\n",
       "      <td>Bram Stoker</td>\n",
       "      <td>4.01</td>\n",
       "      <td>1107984</td>\n",
       "      <td>34343</td>\n",
       "      <td>find alternative cover edition isbn rich selec...</td>\n",
       "      <td>two things book really great creepy story dese...</td>\n",
       "      <td>3.0</td>\n",
       "      <td>Bram Stoker, \\n\\n\\nRubén Toledo (Illustrations...</td>\n",
       "    </tr>\n",
       "    <tr>\n",
       "      <th>264</th>\n",
       "      <td>The Odyssey</td>\n",
       "      <td>Homer</td>\n",
       "      <td>3.79</td>\n",
       "      <td>976070</td>\n",
       "      <td>15696</td>\n",
       "      <td>sing man muse man twists turnsdriven time cour...</td>\n",
       "      <td>okay happened went work guys went perfectly ni...</td>\n",
       "      <td>5.0</td>\n",
       "      <td>Homer, \\n\\n\\nRobert Fagles (Translator), \\n\\n\\...</td>\n",
       "    </tr>\n",
       "  </tbody>\n",
       "</table>\n",
       "</div>"
      ],
      "text/plain": [
       "                                              bookName           author  \\\n",
       "0                                     The Hunger Games  Suzanne Collins   \n",
       "30           Harry Potter and the Order of the Phoenix     J.K. Rowling   \n",
       "58   J.R.R. Tolkien 4-Book Boxed Set: The Hobbit an...   J.R.R. Tolkien   \n",
       "86                                   Wuthering Heights     Emily Brontë   \n",
       "116                                  The Da Vinci Code        Dan Brown   \n",
       "146                    The Perks of Being a Wallflower  Stephen Chbosky   \n",
       "176                                     Les Misérables      Victor Hugo   \n",
       "205                                    Charlotte's Web       E.B. White   \n",
       "234                                            Dracula      Bram Stoker   \n",
       "264                                        The Odyssey            Homer   \n",
       "\n",
       "     rating ratingCount reviewCount  \\\n",
       "0      4.32     7550740      186972   \n",
       "30     4.50     2999225       53202   \n",
       "58     4.61      123988        2034   \n",
       "86     3.88     1597429       48940   \n",
       "116    3.89     2176805       51255   \n",
       "146    4.22     1556524       74254   \n",
       "176    4.19      747771       20188   \n",
       "205    4.19     1654702       21122   \n",
       "234    4.01     1107984       34343   \n",
       "264    3.79      976070       15696   \n",
       "\n",
       "                                               summary  \\\n",
       "0    could survive wild every one make sure live se...   \n",
       "30   door end silent corridor it’s haunting harry p...   \n",
       "58   four volume boxed set contains j r r tolkien e...   \n",
       "86   find redesigned cover edition best selling nor...   \n",
       "116  isbn moved edition paris harvard symbologist r...   \n",
       "146  standing fringes life offers unique perspectiv...   \n",
       "176  librarian note alternate cover edition isbn vi...   \n",
       "205  beloved book e b white author stuart little tr...   \n",
       "234  find alternative cover edition isbn rich selec...   \n",
       "264  sing man muse man twists turnsdriven time cour...   \n",
       "\n",
       "                                               reviews  rating_users  \\\n",
       "0    review hidden contains spoilers view click lma...           5.0   \n",
       "30   “is true shouted professor umbridge yes called...           5.0   \n",
       "58   shout joy others scream derision however agree...           5.0   \n",
       "86   fire much admiration emily brontë right wuther...           5.0   \n",
       "116  four stars pure entertainment value however da...           3.0   \n",
       "146  like lurk frequent tumblr realised far scroll ...           3.0   \n",
       "176  les misérables translated french miserable one...           5.0   \n",
       "205  give fig kid book charlotte web one well craft...           5.0   \n",
       "234  two things book really great creepy story dese...           3.0   \n",
       "264  okay happened went work guys went perfectly ni...           5.0   \n",
       "\n",
       "                                                  user  \n",
       "0                                      Suzanne Collins  \n",
       "30     J.K. Rowling, \\n\\n\\nMary GrandPré (Illustrator)  \n",
       "58                                      J.R.R. Tolkien  \n",
       "86   Emily Brontë, \\n\\n\\nRichard J. Dunn (Editor), ...  \n",
       "116                       Dan Brown (Goodreads Author)  \n",
       "146  Stephen Chbosky, \\n\\n\\nEllen Karine Berg (Tran...  \n",
       "176  Victor Hugo, \\n\\n\\nNorman MacAfee (Translator)...  \n",
       "205  E.B. White, \\n\\n\\nGarth Williams (Illustrator)...  \n",
       "234  Bram Stoker, \\n\\n\\nRubén Toledo (Illustrations...  \n",
       "264  Homer, \\n\\n\\nRobert Fagles (Translator), \\n\\n\\...  "
      ]
     },
     "execution_count": 128,
     "metadata": {},
     "output_type": "execute_result"
    }
   ],
   "source": [
    "df.head(10)"
   ]
  },
  {
   "cell_type": "code",
   "execution_count": 76,
   "id": "06a6d234",
   "metadata": {},
   "outputs": [],
   "source": [
    "df.to_csv('GOODREADS_REC_DATA', sep=',', header=True, index=False)"
   ]
  },
  {
   "cell_type": "code",
   "execution_count": 36,
   "id": "d611536d",
   "metadata": {},
   "outputs": [
    {
     "name": "stderr",
     "output_type": "stream",
     "text": [
      "[nltk_data] Downloading package wordnet to\n",
      "[nltk_data]     /Users/birsenbas/nltk_data...\n",
      "[nltk_data]   Package wordnet is already up-to-date!\n"
     ]
    },
    {
     "data": {
      "text/plain": [
       "True"
      ]
     },
     "execution_count": 36,
     "metadata": {},
     "output_type": "execute_result"
    }
   ],
   "source": [
    "import gensim\n",
    "from gensim.utils import simple_preprocess\n",
    "from gensim.parsing.preprocessing import STOPWORDS\n",
    "from nltk.stem import WordNetLemmatizer, SnowballStemmer\n",
    "from nltk.stem.porter import *\n",
    "import numpy as np\n",
    "np.random.seed(2018)\n",
    "import nltk\n",
    "nltk.download('wordnet')"
   ]
  },
  {
   "cell_type": "code",
   "execution_count": 79,
   "id": "8324957a",
   "metadata": {},
   "outputs": [
    {
     "name": "stdout",
     "output_type": "stream",
     "text": [
      "3.8803768947152806\n"
     ]
    }
   ],
   "source": [
    "# Calculate mean of vote average column\n",
    "C = df['rating_users'].mean()\n",
    "print(C)"
   ]
  },
  {
   "cell_type": "code",
   "execution_count": 77,
   "id": "ac2f61a6",
   "metadata": {},
   "outputs": [
    {
     "name": "stdout",
     "output_type": "stream",
     "text": [
      "5.0\n"
     ]
    }
   ],
   "source": [
    "# Calculate the minimum number of votes required to be in the chart, m\n",
    "m = df['rating_users'].quantile(0.90)\n",
    "print(m)"
   ]
  },
  {
   "cell_type": "code",
   "execution_count": 80,
   "id": "659c7f87",
   "metadata": {},
   "outputs": [
    {
     "data": {
      "text/plain": [
       "(1064, 9)"
      ]
     },
     "execution_count": 80,
     "metadata": {},
     "output_type": "execute_result"
    }
   ],
   "source": [
    "# Filter out all qualified movies into a new DataFrame\n",
    "q_books = df.copy().loc[df['rating_users'] >= m]\n",
    "q_books.shape"
   ]
  },
  {
   "cell_type": "code",
   "execution_count": 81,
   "id": "06f7ee73",
   "metadata": {},
   "outputs": [
    {
     "data": {
      "text/plain": [
       "(2445, 9)"
      ]
     },
     "execution_count": 81,
     "metadata": {},
     "output_type": "execute_result"
    }
   ],
   "source": [
    "df.shape"
   ]
  },
  {
   "cell_type": "code",
   "execution_count": 51,
   "id": "9b59f2c3",
   "metadata": {},
   "outputs": [],
   "source": [
    "# Function that computes the weighted rating of each movie\n",
    "def weighted_rating(x, m=m, C=C):\n",
    "    v = x['ratingCount']\n",
    "    R = x['rating_users']\n",
    "    # Calculation based on the IMDB formula\n",
    "    return (v/(v+m) * R) + (m/(m+v) * C)"
   ]
  },
  {
   "cell_type": "code",
   "execution_count": null,
   "id": "3bdaad79",
   "metadata": {},
   "outputs": [],
   "source": [
    "## üsttekine sonra devam edebilirsin"
   ]
  },
  {
   "cell_type": "code",
   "execution_count": 82,
   "id": "f05a8ee3",
   "metadata": {},
   "outputs": [
    {
     "data": {
      "text/plain": [
       "0      review hidden contains spoilers view click lma...\n",
       "30     “is true shouted professor umbridge yes called...\n",
       "58     shout joy others scream derision however agree...\n",
       "86     fire much admiration emily brontë right wuther...\n",
       "116    four stars pure entertainment value however da...\n",
       "Name: reviews, dtype: object"
      ]
     },
     "execution_count": 82,
     "metadata": {},
     "output_type": "execute_result"
    }
   ],
   "source": [
    "df[\"reviews\"].head()"
   ]
  },
  {
   "cell_type": "markdown",
   "id": "466f724a",
   "metadata": {},
   "source": [
    "# Reviews Recommendation"
   ]
  },
  {
   "cell_type": "code",
   "execution_count": 114,
   "id": "88e7269a",
   "metadata": {},
   "outputs": [
    {
     "name": "stderr",
     "output_type": "stream",
     "text": [
      "/var/folders/90/_lwt0ls51gv2bkw5mnzmk25r0000gp/T/ipykernel_68707/1249170509.py:8: SettingWithCopyWarning: \n",
      "A value is trying to be set on a copy of a slice from a DataFrame.\n",
      "Try using .loc[row_indexer,col_indexer] = value instead\n",
      "\n",
      "See the caveats in the documentation: https://pandas.pydata.org/pandas-docs/stable/user_guide/indexing.html#returning-a-view-versus-a-copy\n",
      "  df[\"reviews\"] = df[\"reviews\"].fillna('')\n"
     ]
    },
    {
     "data": {
      "text/plain": [
       "(2445, 53027)"
      ]
     },
     "execution_count": 114,
     "metadata": {},
     "output_type": "execute_result"
    }
   ],
   "source": [
    "#Import TfIdfVectorizer from scikit-learn\n",
    "from sklearn.feature_extraction.text import TfidfVectorizer\n",
    "\n",
    "#Define a TF-IDF Vectorizer Object. Remove all english stop words such as 'the', 'a'\n",
    "tfidf = TfidfVectorizer(stop_words='english')\n",
    "\n",
    "#Replace NaN with an empty string\n",
    "df[\"reviews\"] = df[\"reviews\"].fillna('')\n",
    "\n",
    "#Construct the required TF-IDF matrix by fitting and transforming the data\n",
    "tfidf_matrix = tfidf.fit_transform(df[\"reviews\"])\n",
    "\n",
    "#Output the shape of tfidf_matrix\n",
    "tfidf_matrix.shape"
   ]
  },
  {
   "cell_type": "code",
   "execution_count": 115,
   "id": "ae29bdda",
   "metadata": {},
   "outputs": [
    {
     "data": {
      "text/html": [
       "<div>\n",
       "<style scoped>\n",
       "    .dataframe tbody tr th:only-of-type {\n",
       "        vertical-align: middle;\n",
       "    }\n",
       "\n",
       "    .dataframe tbody tr th {\n",
       "        vertical-align: top;\n",
       "    }\n",
       "\n",
       "    .dataframe thead th {\n",
       "        text-align: right;\n",
       "    }\n",
       "</style>\n",
       "<table border=\"1\" class=\"dataframe\">\n",
       "  <thead>\n",
       "    <tr style=\"text-align: right;\">\n",
       "      <th></th>\n",
       "      <th>bookName</th>\n",
       "      <th>author</th>\n",
       "      <th>rating</th>\n",
       "      <th>ratingCount</th>\n",
       "      <th>reviewCount</th>\n",
       "      <th>summary</th>\n",
       "      <th>reviews</th>\n",
       "      <th>rating_users</th>\n",
       "      <th>user</th>\n",
       "    </tr>\n",
       "  </thead>\n",
       "  <tbody>\n",
       "    <tr>\n",
       "      <th>0</th>\n",
       "      <td>The Hunger Games</td>\n",
       "      <td>Suzanne Collins</td>\n",
       "      <td>4.32</td>\n",
       "      <td>7550740</td>\n",
       "      <td>186972</td>\n",
       "      <td>could survive wild every one make sure live se...</td>\n",
       "      <td>review hidden contains spoilers view click lma...</td>\n",
       "      <td>5.0</td>\n",
       "      <td>Suzanne Collins</td>\n",
       "    </tr>\n",
       "    <tr>\n",
       "      <th>30</th>\n",
       "      <td>Harry Potter and the Order of the Phoenix</td>\n",
       "      <td>J.K. Rowling</td>\n",
       "      <td>4.50</td>\n",
       "      <td>2999225</td>\n",
       "      <td>53202</td>\n",
       "      <td>door end silent corridor it’s haunting harry p...</td>\n",
       "      <td>“is true shouted professor umbridge yes called...</td>\n",
       "      <td>5.0</td>\n",
       "      <td>J.K. Rowling, \\n\\n\\nMary GrandPré (Illustrator)</td>\n",
       "    </tr>\n",
       "    <tr>\n",
       "      <th>58</th>\n",
       "      <td>J.R.R. Tolkien 4-Book Boxed Set: The Hobbit an...</td>\n",
       "      <td>J.R.R. Tolkien</td>\n",
       "      <td>4.61</td>\n",
       "      <td>123988</td>\n",
       "      <td>2034</td>\n",
       "      <td>four volume boxed set contains j r r tolkien e...</td>\n",
       "      <td>shout joy others scream derision however agree...</td>\n",
       "      <td>5.0</td>\n",
       "      <td>J.R.R. Tolkien</td>\n",
       "    </tr>\n",
       "    <tr>\n",
       "      <th>86</th>\n",
       "      <td>Wuthering Heights</td>\n",
       "      <td>Emily Brontë</td>\n",
       "      <td>3.88</td>\n",
       "      <td>1597429</td>\n",
       "      <td>48940</td>\n",
       "      <td>find redesigned cover edition best selling nor...</td>\n",
       "      <td>fire much admiration emily brontë right wuther...</td>\n",
       "      <td>5.0</td>\n",
       "      <td>Emily Brontë, \\n\\n\\nRichard J. Dunn (Editor), ...</td>\n",
       "    </tr>\n",
       "    <tr>\n",
       "      <th>116</th>\n",
       "      <td>The Da Vinci Code</td>\n",
       "      <td>Dan Brown</td>\n",
       "      <td>3.89</td>\n",
       "      <td>2176805</td>\n",
       "      <td>51255</td>\n",
       "      <td>isbn moved edition paris harvard symbologist r...</td>\n",
       "      <td>four stars pure entertainment value however da...</td>\n",
       "      <td>3.0</td>\n",
       "      <td>Dan Brown (Goodreads Author)</td>\n",
       "    </tr>\n",
       "  </tbody>\n",
       "</table>\n",
       "</div>"
      ],
      "text/plain": [
       "                                              bookName           author  \\\n",
       "0                                     The Hunger Games  Suzanne Collins   \n",
       "30           Harry Potter and the Order of the Phoenix     J.K. Rowling   \n",
       "58   J.R.R. Tolkien 4-Book Boxed Set: The Hobbit an...   J.R.R. Tolkien   \n",
       "86                                   Wuthering Heights     Emily Brontë   \n",
       "116                                  The Da Vinci Code        Dan Brown   \n",
       "\n",
       "     rating ratingCount reviewCount  \\\n",
       "0      4.32     7550740      186972   \n",
       "30     4.50     2999225       53202   \n",
       "58     4.61      123988        2034   \n",
       "86     3.88     1597429       48940   \n",
       "116    3.89     2176805       51255   \n",
       "\n",
       "                                               summary  \\\n",
       "0    could survive wild every one make sure live se...   \n",
       "30   door end silent corridor it’s haunting harry p...   \n",
       "58   four volume boxed set contains j r r tolkien e...   \n",
       "86   find redesigned cover edition best selling nor...   \n",
       "116  isbn moved edition paris harvard symbologist r...   \n",
       "\n",
       "                                               reviews  rating_users  \\\n",
       "0    review hidden contains spoilers view click lma...           5.0   \n",
       "30   “is true shouted professor umbridge yes called...           5.0   \n",
       "58   shout joy others scream derision however agree...           5.0   \n",
       "86   fire much admiration emily brontë right wuther...           5.0   \n",
       "116  four stars pure entertainment value however da...           3.0   \n",
       "\n",
       "                                                  user  \n",
       "0                                      Suzanne Collins  \n",
       "30     J.K. Rowling, \\n\\n\\nMary GrandPré (Illustrator)  \n",
       "58                                      J.R.R. Tolkien  \n",
       "86   Emily Brontë, \\n\\n\\nRichard J. Dunn (Editor), ...  \n",
       "116                       Dan Brown (Goodreads Author)  "
      ]
     },
     "execution_count": 115,
     "metadata": {},
     "output_type": "execute_result"
    }
   ],
   "source": [
    "df.head(5)"
   ]
  },
  {
   "cell_type": "code",
   "execution_count": 116,
   "id": "ca31cb72",
   "metadata": {},
   "outputs": [
    {
     "data": {
      "text/plain": [
       "['bugatti',\n",
       " 'bugged',\n",
       " 'bugger',\n",
       " 'buggered',\n",
       " 'buggery',\n",
       " 'buggies',\n",
       " 'buggin',\n",
       " 'bugs',\n",
       " 'buh',\n",
       " 'build']"
      ]
     },
     "execution_count": 116,
     "metadata": {},
     "output_type": "execute_result"
    }
   ],
   "source": [
    "#Array mapping from feature integer indices to feature name.\n",
    "tfidf.get_feature_names()[5000:5010]"
   ]
  },
  {
   "cell_type": "code",
   "execution_count": 117,
   "id": "14978bd9",
   "metadata": {},
   "outputs": [],
   "source": [
    "# Import linear_kernel\n",
    "from sklearn.metrics.pairwise import linear_kernel\n",
    "\n",
    "# Compute the cosine similarity matrix\n",
    "cosine_sim = linear_kernel(tfidf_matrix, tfidf_matrix)"
   ]
  },
  {
   "cell_type": "code",
   "execution_count": 118,
   "id": "5435c385",
   "metadata": {},
   "outputs": [
    {
     "data": {
      "text/plain": [
       "(2445, 2445)"
      ]
     },
     "execution_count": 118,
     "metadata": {},
     "output_type": "execute_result"
    }
   ],
   "source": [
    "cosine_sim.shape"
   ]
  },
  {
   "cell_type": "code",
   "execution_count": 119,
   "id": "289a81c5",
   "metadata": {},
   "outputs": [
    {
     "data": {
      "text/plain": [
       "array([0.02445427, 1.        , 0.        , ..., 0.02706444, 0.        ,\n",
       "       0.00198848])"
      ]
     },
     "execution_count": 119,
     "metadata": {},
     "output_type": "execute_result"
    }
   ],
   "source": [
    "cosine_sim[1]"
   ]
  },
  {
   "cell_type": "code",
   "execution_count": 120,
   "id": "c1d5db04",
   "metadata": {},
   "outputs": [],
   "source": [
    "#Construct a reverse map of indices and movie titles\n",
    "indices = pd.Series(df.index, index=df['bookName']).drop_duplicates()"
   ]
  },
  {
   "cell_type": "code",
   "execution_count": 121,
   "id": "f6e02444",
   "metadata": {},
   "outputs": [
    {
     "data": {
      "text/plain": [
       "bookName\n",
       "The Hunger Games                                                           0\n",
       "Harry Potter and the Order of the Phoenix                                 30\n",
       "J.R.R. Tolkien 4-Book Boxed Set: The Hobbit and The Lord of the Rings     58\n",
       "Wuthering Heights                                                         86\n",
       "The Da Vinci Code                                                        116\n",
       "The Perks of Being a Wallflower                                          146\n",
       "Les Misérables                                                           176\n",
       "Charlotte's Web                                                          205\n",
       "Dracula                                                                  234\n",
       "The Odyssey                                                              264\n",
       "The Handmaid's Tale                                                      293\n",
       "Little Women                                                             323\n",
       "1984                                                                     351\n",
       "The Adventures of Sherlock Holmes                                        380\n",
       "Rebecca                                                                  409\n",
       "dtype: int64"
      ]
     },
     "execution_count": 121,
     "metadata": {},
     "output_type": "execute_result"
    }
   ],
   "source": [
    "indices[:15]"
   ]
  },
  {
   "cell_type": "code",
   "execution_count": 122,
   "id": "43dd5a66",
   "metadata": {},
   "outputs": [],
   "source": [
    " #Function that takes in movie title as input and outputs most similar movies\n",
    "def get_recommendations1(bookName, cosine_sim=cosine_sim):\n",
    "    # Get the index of the movie that matches the title\n",
    "    idx = indices[bookName]\n",
    "\n",
    "    # Get the pairwsie similarity scores of all movies with that movie\n",
    "    sim_scores = list(enumerate(cosine_sim[idx]))\n",
    "\n",
    "    # Sort the movies based on the similarity scores\n",
    "    sim_scores = sorted(sim_scores, key=lambda x: x[1], reverse=True)\n",
    "\n",
    "    # Get the scores of the 10 most similar movies\n",
    "    sim_scores = sim_scores[1:11]\n",
    "\n",
    "    # Get the movie indices\n",
    "    book_indices = [i[0] for i in sim_scores]\n",
    "\n",
    "    # Return the top 10 most similar movies\n",
    "    return df['bookName'].iloc[book_indices]"
   ]
  },
  {
   "cell_type": "code",
   "execution_count": 92,
   "id": "9da6d3f7",
   "metadata": {},
   "outputs": [
    {
     "data": {
      "text/plain": [
       "'Heart of Darkness'"
      ]
     },
     "execution_count": 92,
     "metadata": {},
     "output_type": "execute_result"
    }
   ],
   "source": [
    "df['bookName'].iloc[35]"
   ]
  },
  {
   "cell_type": "code",
   "execution_count": 126,
   "id": "914bad31",
   "metadata": {},
   "outputs": [
    {
     "data": {
      "text/plain": [
       "13033    Percy Jackson's Greek Gods\n",
       "15466                  Kings Rising\n",
       "19946            The Hammer of Thor\n",
       "64225     Grandma! Can I Get a Dog?\n",
       "44003                Boys that Bite\n",
       "23133           Beyond the Kingdoms\n",
       "2147                     Mockingjay\n",
       "11882                   The Testing\n",
       "49274              Kids of Appetite\n",
       "7478                        Beastly\n",
       "Name: bookName, dtype: object"
      ]
     },
     "execution_count": 126,
     "metadata": {},
     "output_type": "execute_result"
    }
   ],
   "source": [
    "get_recommendations1('The Hunger Games')"
   ]
  },
  {
   "cell_type": "markdown",
   "id": "52f10e52",
   "metadata": {},
   "source": [
    "# Summary column recommendation"
   ]
  },
  {
   "cell_type": "code",
   "execution_count": 102,
   "id": "37863178",
   "metadata": {},
   "outputs": [
    {
     "name": "stderr",
     "output_type": "stream",
     "text": [
      "/var/folders/90/_lwt0ls51gv2bkw5mnzmk25r0000gp/T/ipykernel_68707/2633669298.py:8: SettingWithCopyWarning: \n",
      "A value is trying to be set on a copy of a slice from a DataFrame.\n",
      "Try using .loc[row_indexer,col_indexer] = value instead\n",
      "\n",
      "See the caveats in the documentation: https://pandas.pydata.org/pandas-docs/stable/user_guide/indexing.html#returning-a-view-versus-a-copy\n",
      "  df[\"summary\"] = df[\"summary\"].fillna('')\n"
     ]
    },
    {
     "data": {
      "text/plain": [
       "(2445, 32829)"
      ]
     },
     "execution_count": 102,
     "metadata": {},
     "output_type": "execute_result"
    }
   ],
   "source": [
    "#Import TfIdfVectorizer from scikit-learn\n",
    "from sklearn.feature_extraction.text import TfidfVectorizer\n",
    "\n",
    "#Define a TF-IDF Vectorizer Object. Remove all english stop words such as 'the', 'a'\n",
    "tfidf = TfidfVectorizer(stop_words='english')\n",
    "\n",
    "#Replace NaN with an empty string\n",
    "df[\"summary\"] = df[\"summary\"].fillna('')\n",
    "\n",
    "#Construct the required TF-IDF matrix by fitting and transforming the data\n",
    "tfidf_matrix = tfidf.fit_transform(df[\"summary\"])\n",
    "\n",
    "#Output the shape of tfidf_matrix\n",
    "tfidf_matrix.shape"
   ]
  },
  {
   "cell_type": "code",
   "execution_count": 103,
   "id": "16b10ae2",
   "metadata": {},
   "outputs": [
    {
     "data": {
      "text/plain": [
       "['colleagues',\n",
       " 'collect',\n",
       " 'collected',\n",
       " 'collectible',\n",
       " 'collecting',\n",
       " 'collection',\n",
       " 'collections',\n",
       " 'collective',\n",
       " 'collectively',\n",
       " 'collector']"
      ]
     },
     "execution_count": 103,
     "metadata": {},
     "output_type": "execute_result"
    }
   ],
   "source": [
    "#Array mapping from feature integer indices to feature name.\n",
    "tfidf.get_feature_names()[5000:5010]"
   ]
  },
  {
   "cell_type": "code",
   "execution_count": 104,
   "id": "caee39fa",
   "metadata": {},
   "outputs": [],
   "source": [
    "# Import linear_kernel\n",
    "from sklearn.metrics.pairwise import linear_kernel\n",
    "\n",
    "# Compute the cosine similarity matrix\n",
    "cosine_sim = linear_kernel(tfidf_matrix, tfidf_matrix)"
   ]
  },
  {
   "cell_type": "code",
   "execution_count": 105,
   "id": "cd3de4ee",
   "metadata": {},
   "outputs": [
    {
     "data": {
      "text/plain": [
       "(2445, 2445)"
      ]
     },
     "execution_count": 105,
     "metadata": {},
     "output_type": "execute_result"
    }
   ],
   "source": [
    "cosine_sim.shape"
   ]
  },
  {
   "cell_type": "code",
   "execution_count": 106,
   "id": "6151ed2a",
   "metadata": {},
   "outputs": [
    {
     "data": {
      "text/plain": [
       "array([0.00291054, 1.        , 0.00600708, ..., 0.        , 0.01226099,\n",
       "       0.06092137])"
      ]
     },
     "execution_count": 106,
     "metadata": {},
     "output_type": "execute_result"
    }
   ],
   "source": [
    "cosine_sim[1]"
   ]
  },
  {
   "cell_type": "code",
   "execution_count": 107,
   "id": "5bacc889",
   "metadata": {},
   "outputs": [],
   "source": [
    "#Construct a reverse map of indices and movie titles\n",
    "indices = pd.Series(df.index, index=df['bookName']).drop_duplicates()"
   ]
  },
  {
   "cell_type": "code",
   "execution_count": 108,
   "id": "e96e177c",
   "metadata": {},
   "outputs": [
    {
     "data": {
      "text/plain": [
       "bookName\n",
       "The Hunger Games                                                           0\n",
       "Harry Potter and the Order of the Phoenix                                 30\n",
       "J.R.R. Tolkien 4-Book Boxed Set: The Hobbit and The Lord of the Rings     58\n",
       "Wuthering Heights                                                         86\n",
       "The Da Vinci Code                                                        116\n",
       "The Perks of Being a Wallflower                                          146\n",
       "Les Misérables                                                           176\n",
       "Charlotte's Web                                                          205\n",
       "Dracula                                                                  234\n",
       "The Odyssey                                                              264\n",
       "The Handmaid's Tale                                                      293\n",
       "Little Women                                                             323\n",
       "1984                                                                     351\n",
       "The Adventures of Sherlock Holmes                                        380\n",
       "Rebecca                                                                  409\n",
       "dtype: int64"
      ]
     },
     "execution_count": 108,
     "metadata": {},
     "output_type": "execute_result"
    }
   ],
   "source": [
    "indices[:15]"
   ]
  },
  {
   "cell_type": "code",
   "execution_count": 109,
   "id": "2d6a18ad",
   "metadata": {},
   "outputs": [],
   "source": [
    " #Function that takes in movie title as input and outputs most similar movies\n",
    "def get_recommendations(bookName, cosine_sim=cosine_sim):\n",
    "    # Get the index of the movie that matches the title\n",
    "    idx = indices[bookName]\n",
    "\n",
    "    # Get the pairwsie similarity scores of all movies with that movie\n",
    "    sim_scores = list(enumerate(cosine_sim[idx]))\n",
    "\n",
    "    # Sort the movies based on the similarity scores\n",
    "    sim_scores = sorted(sim_scores, key=lambda x: x[1], reverse=True)\n",
    "\n",
    "    # Get the scores of the 10 most similar movies\n",
    "    sim_scores = sim_scores[1:11]\n",
    "\n",
    "    # Get the movie indices\n",
    "    book_indices = [i[0] for i in sim_scores]\n",
    "\n",
    "    # Return the top 10 most similar movies\n",
    "    return df['bookName'].iloc[book_indices]"
   ]
  },
  {
   "cell_type": "code",
   "execution_count": 127,
   "id": "40c0387c",
   "metadata": {},
   "outputs": [
    {
     "data": {
      "text/plain": [
       "2147                                            Mockingjay\n",
       "2352                                                Legend\n",
       "18598                                             The Body\n",
       "64811                                   The Iron-Jawed Boy\n",
       "1119                                  The Call of the Wild\n",
       "48018                                    Never Have I Ever\n",
       "15734                                        Never Too Far\n",
       "17877                                             Partials\n",
       "66266    Life After Life: The Investigation of a Phenom...\n",
       "37846                                            Hereafter\n",
       "Name: bookName, dtype: object"
      ]
     },
     "execution_count": 127,
     "metadata": {},
     "output_type": "execute_result"
    }
   ],
   "source": [
    "get_recommendations('The Hunger Games')"
   ]
  },
  {
   "cell_type": "markdown",
   "id": "a6ef24e0",
   "metadata": {},
   "source": [
    "# Tableau"
   ]
  },
  {
   "cell_type": "code",
   "execution_count": 129,
   "id": "ea78c4d0",
   "metadata": {},
   "outputs": [],
   "source": [
    "df1  = df[[\"bookName\", \"author\", \"rating\", \"ratingCount\", \"reviewCount\"]]"
   ]
  },
  {
   "cell_type": "code",
   "execution_count": 130,
   "id": "24fd5d4d",
   "metadata": {},
   "outputs": [
    {
     "data": {
      "text/html": [
       "<div>\n",
       "<style scoped>\n",
       "    .dataframe tbody tr th:only-of-type {\n",
       "        vertical-align: middle;\n",
       "    }\n",
       "\n",
       "    .dataframe tbody tr th {\n",
       "        vertical-align: top;\n",
       "    }\n",
       "\n",
       "    .dataframe thead th {\n",
       "        text-align: right;\n",
       "    }\n",
       "</style>\n",
       "<table border=\"1\" class=\"dataframe\">\n",
       "  <thead>\n",
       "    <tr style=\"text-align: right;\">\n",
       "      <th></th>\n",
       "      <th>bookName</th>\n",
       "      <th>author</th>\n",
       "      <th>rating</th>\n",
       "      <th>ratingCount</th>\n",
       "      <th>reviewCount</th>\n",
       "    </tr>\n",
       "  </thead>\n",
       "  <tbody>\n",
       "    <tr>\n",
       "      <th>0</th>\n",
       "      <td>The Hunger Games</td>\n",
       "      <td>Suzanne Collins</td>\n",
       "      <td>4.32</td>\n",
       "      <td>7550740</td>\n",
       "      <td>186972</td>\n",
       "    </tr>\n",
       "    <tr>\n",
       "      <th>30</th>\n",
       "      <td>Harry Potter and the Order of the Phoenix</td>\n",
       "      <td>J.K. Rowling</td>\n",
       "      <td>4.50</td>\n",
       "      <td>2999225</td>\n",
       "      <td>53202</td>\n",
       "    </tr>\n",
       "    <tr>\n",
       "      <th>58</th>\n",
       "      <td>J.R.R. Tolkien 4-Book Boxed Set: The Hobbit an...</td>\n",
       "      <td>J.R.R. Tolkien</td>\n",
       "      <td>4.61</td>\n",
       "      <td>123988</td>\n",
       "      <td>2034</td>\n",
       "    </tr>\n",
       "    <tr>\n",
       "      <th>86</th>\n",
       "      <td>Wuthering Heights</td>\n",
       "      <td>Emily Brontë</td>\n",
       "      <td>3.88</td>\n",
       "      <td>1597429</td>\n",
       "      <td>48940</td>\n",
       "    </tr>\n",
       "    <tr>\n",
       "      <th>116</th>\n",
       "      <td>The Da Vinci Code</td>\n",
       "      <td>Dan Brown</td>\n",
       "      <td>3.89</td>\n",
       "      <td>2176805</td>\n",
       "      <td>51255</td>\n",
       "    </tr>\n",
       "  </tbody>\n",
       "</table>\n",
       "</div>"
      ],
      "text/plain": [
       "                                              bookName           author  \\\n",
       "0                                     The Hunger Games  Suzanne Collins   \n",
       "30           Harry Potter and the Order of the Phoenix     J.K. Rowling   \n",
       "58   J.R.R. Tolkien 4-Book Boxed Set: The Hobbit an...   J.R.R. Tolkien   \n",
       "86                                   Wuthering Heights     Emily Brontë   \n",
       "116                                  The Da Vinci Code        Dan Brown   \n",
       "\n",
       "     rating ratingCount reviewCount  \n",
       "0      4.32     7550740      186972  \n",
       "30     4.50     2999225       53202  \n",
       "58     4.61      123988        2034  \n",
       "86     3.88     1597429       48940  \n",
       "116    3.89     2176805       51255  "
      ]
     },
     "execution_count": 130,
     "metadata": {},
     "output_type": "execute_result"
    }
   ],
   "source": [
    "df1.head(5)"
   ]
  },
  {
   "cell_type": "code",
   "execution_count": 131,
   "id": "9c5a38fa",
   "metadata": {},
   "outputs": [],
   "source": [
    "df1.to_csv('GOODREADS_EDA', sep=',', header=True, index=False)"
   ]
  },
  {
   "cell_type": "code",
   "execution_count": null,
   "id": "2a03e79c",
   "metadata": {},
   "outputs": [],
   "source": []
  }
 ],
 "metadata": {
  "kernelspec": {
   "display_name": "Python 3 (ipykernel)",
   "language": "python",
   "name": "python3"
  },
  "language_info": {
   "codemirror_mode": {
    "name": "ipython",
    "version": 3
   },
   "file_extension": ".py",
   "mimetype": "text/x-python",
   "name": "python",
   "nbconvert_exporter": "python",
   "pygments_lexer": "ipython3",
   "version": "3.9.7"
  }
 },
 "nbformat": 4,
 "nbformat_minor": 5
}
